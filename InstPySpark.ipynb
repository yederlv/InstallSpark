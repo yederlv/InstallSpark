{
  "nbformat": 4,
  "nbformat_minor": 0,
  "metadata": {
    "colab": {
      "name": "InstPySpark.ipynb",
      "provenance": [],
      "authorship_tag": "ABX9TyMdjFu/XMzYj9MGRlFYM7ca",
      "include_colab_link": true
    },
    "kernelspec": {
      "name": "python3",
      "display_name": "Python 3"
    },
    "language_info": {
      "name": "python"
    }
  },
  "cells": [
    {
      "cell_type": "markdown",
      "metadata": {
        "id": "view-in-github",
        "colab_type": "text"
      },
      "source": [
        "<a href=\"https://colab.research.google.com/github/yederlv/InstallSpark/blob/main/InstPySpark.ipynb\" target=\"_parent\"><img src=\"https://colab.research.google.com/assets/colab-badge.svg\" alt=\"Open In Colab\"/></a>"
      ]
    },
    {
      "cell_type": "markdown",
      "metadata": {
        "id": "Pw5ZNlKq4NyV"
      },
      "source": [
        "# PySpark en Google Colab Automatico\n",
        "\n",
        "1. Instalacion Octubre / 2021\n",
        "2. Instalacion Java\n",
        "3. Instalacion de Spark\n",
        "\n",
        "## Instalacion Octubre / 2021\n",
        "De forma General para usar pyspark en Colab Octubre / 2021 seria con los siguientes comandos en una celda en Colab:\n",
        "```python\n",
        "!apt-get install openjdk-8-jdk-headless -qq > /dev/null\n",
        "\n",
        "import os # libreria de manejo del sistema operativo\n",
        "os.system(\"wget -q https://www-us.apache.org/dist/spark/spark-2.4.5/spark-2.4.5-bin-hadoop2.7.tgz\")\n",
        "os.system(\"tar xf /spark-2.4.5-bin-hadoop2.7.tgz\")\n",
        "# instalar pyspark\n",
        "!pip install -q pyspark\n",
        "```\n",
        "\n",
        "```python\n",
        "# Variables de Entorno\n",
        "os.environ[\"JAVA_HOME\"] = \"/usr/lib/jvm/java-8-openjdk-amd64\"\n",
        "os.environ[\"SPARK_HOME\"] = f\"/content/{ver_spark}-bin-hadoop2.7\"\n",
        "```\n",
        "```python\n",
        "# Cargar Pyspark\n",
        "from pyspark.sql import SparkSession\n",
        "spark = SparkSession.builder.appName(\"Test_spark\").master(\"local[*]\").getOrCreate()\n",
        "spark\n",
        "```\n",
        "Pero cuadno salga una nueva version de spark sera necesario actualizar los\n",
        "links de descarga, ya que siempre borran las versiones 3.x.x cuando sale una nueva.\n",
        "\n",
        "Para esto el siguiente codigo detecta la version actual de spark, la descarga, la descomprime y luego realiza la instalacion de spark en google colab."
      ]
    },
    {
      "cell_type": "code",
      "metadata": {
        "id": "ITv9UGgk4DLT"
      },
      "source": [
        ""
      ],
      "execution_count": null,
      "outputs": []
    }
  ]
}